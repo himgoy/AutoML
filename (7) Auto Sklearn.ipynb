{
 "cells": [
  {
   "cell_type": "code",
   "execution_count": 1,
   "metadata": {
    "colab": {
     "base_uri": "https://localhost:8080/"
    },
    "id": "H_k9B9PA5GUd",
    "outputId": "8fe64f02-8980-49ec-dccf-03e7671f8bde"
   },
   "outputs": [
    {
     "name": "stdout",
     "output_type": "stream",
     "text": [
      "Reading package lists... Done\n",
      "Building dependency tree       \n",
      "Reading state information... Done\n",
      "build-essential is already the newest version (12.4ubuntu1).\n",
      "The following package was automatically installed and is no longer required:\n",
      "  libnvidia-common-460\n",
      "Use 'sudo apt autoremove' to remove it.\n",
      "Suggested packages:\n",
      "  swig-doc swig-examples swig3.0-examples swig3.0-doc\n",
      "The following NEW packages will be installed:\n",
      "  swig swig3.0\n",
      "0 upgraded, 2 newly installed, 0 to remove and 49 not upgraded.\n",
      "Need to get 1,100 kB of archives.\n",
      "After this operation, 5,822 kB of additional disk space will be used.\n",
      "Get:1 http://archive.ubuntu.com/ubuntu bionic/universe amd64 swig3.0 amd64 3.0.12-1 [1,094 kB]\n",
      "Get:2 http://archive.ubuntu.com/ubuntu bionic/universe amd64 swig amd64 3.0.12-1 [6,460 B]\n",
      "Fetched 1,100 kB in 4s (280 kB/s)\n",
      "debconf: unable to initialize frontend: Dialog\n",
      "debconf: (No usable dialog-like program is installed, so the dialog based frontend cannot be used. at /usr/share/perl5/Debconf/FrontEnd/Dialog.pm line 76, <> line 2.)\n",
      "debconf: falling back to frontend: Readline\n",
      "debconf: unable to initialize frontend: Readline\n",
      "debconf: (This frontend requires a controlling tty.)\n",
      "debconf: falling back to frontend: Teletype\n",
      "dpkg-preconfigure: unable to re-open stdin: \n",
      "Selecting previously unselected package swig3.0.\n",
      "(Reading database ... 155653 files and directories currently installed.)\n",
      "Preparing to unpack .../swig3.0_3.0.12-1_amd64.deb ...\n",
      "Unpacking swig3.0 (3.0.12-1) ...\n",
      "Selecting previously unselected package swig.\n",
      "Preparing to unpack .../swig_3.0.12-1_amd64.deb ...\n",
      "Unpacking swig (3.0.12-1) ...\n",
      "Setting up swig3.0 (3.0.12-1) ...\n",
      "Setting up swig (3.0.12-1) ...\n",
      "Processing triggers for man-db (2.8.3-2ubuntu0.1) ...\n",
      "  % Total    % Received % Xferd  Average Speed   Time    Time     Time  Current\n",
      "                                 Dload  Upload   Total   Spent    Left  Speed\n",
      "100   259  100   259    0     0    709      0 --:--:-- --:--:-- --:--:--   707\n",
      "Looking in indexes: https://pypi.org/simple, https://us-python.pkg.dev/colab-wheels/public/simple/\n",
      "Requirement already satisfied: setuptools in /usr/local/lib/python3.7/dist-packages (57.4.0)\n",
      "Looking in indexes: https://pypi.org/simple, https://us-python.pkg.dev/colab-wheels/public/simple/\n",
      "Requirement already satisfied: typing_extensions in /usr/local/lib/python3.7/dist-packages (4.1.1)\n",
      "Looking in indexes: https://pypi.org/simple, https://us-python.pkg.dev/colab-wheels/public/simple/\n",
      "Collecting distro\n",
      "  Downloading distro-1.7.0-py3-none-any.whl (20 kB)\n",
      "Installing collected packages: distro\n",
      "Successfully installed distro-1.7.0\n",
      "Looking in indexes: https://pypi.org/simple, https://us-python.pkg.dev/colab-wheels/public/simple/\n",
      "Requirement already satisfied: numpy>=1.9.0 in /usr/local/lib/python3.7/dist-packages (1.21.6)\n",
      "Looking in indexes: https://pypi.org/simple, https://us-python.pkg.dev/colab-wheels/public/simple/\n",
      "Requirement already satisfied: scipy>=1.7.0 in /usr/local/lib/python3.7/dist-packages (1.7.3)\n",
      "Requirement already satisfied: numpy<1.23.0,>=1.16.5 in /usr/local/lib/python3.7/dist-packages (from scipy>=1.7.0) (1.21.6)\n",
      "Looking in indexes: https://pypi.org/simple, https://us-python.pkg.dev/colab-wheels/public/simple/\n",
      "Requirement already satisfied: joblib in /usr/local/lib/python3.7/dist-packages (1.1.0)\n",
      "Looking in indexes: https://pypi.org/simple, https://us-python.pkg.dev/colab-wheels/public/simple/\n",
      "Collecting scikit-learn<0.25.0,>=0.24.0\n",
      "  Downloading scikit_learn-0.24.2-cp37-cp37m-manylinux2010_x86_64.whl (22.3 MB)\n",
      "\u001b[K     |████████████████████████████████| 22.3 MB 122.2 MB/s \n",
      "\u001b[?25hRequirement already satisfied: joblib>=0.11 in /usr/local/lib/python3.7/dist-packages (from scikit-learn<0.25.0,>=0.24.0) (1.1.0)\n",
      "Requirement already satisfied: scipy>=0.19.1 in /usr/local/lib/python3.7/dist-packages (from scikit-learn<0.25.0,>=0.24.0) (1.7.3)\n",
      "Requirement already satisfied: threadpoolctl>=2.0.0 in /usr/local/lib/python3.7/dist-packages (from scikit-learn<0.25.0,>=0.24.0) (3.1.0)\n",
      "Requirement already satisfied: numpy>=1.13.3 in /usr/local/lib/python3.7/dist-packages (from scikit-learn<0.25.0,>=0.24.0) (1.21.6)\n",
      "Installing collected packages: scikit-learn\n",
      "  Attempting uninstall: scikit-learn\n",
      "    Found existing installation: scikit-learn 1.0.2\n",
      "    Uninstalling scikit-learn-1.0.2:\n",
      "      Successfully uninstalled scikit-learn-1.0.2\n",
      "\u001b[31mERROR: pip's dependency resolver does not currently take into account all the packages that are installed. This behaviour is the source of the following dependency conflicts.\n",
      "yellowbrick 1.4 requires scikit-learn>=1.0.0, but you have scikit-learn 0.24.2 which is incompatible.\u001b[0m\n",
      "Successfully installed scikit-learn-0.24.2\n",
      "Looking in indexes: https://pypi.org/simple, https://us-python.pkg.dev/colab-wheels/public/simple/\n",
      "Collecting dask>=2021.12\n",
      "  Downloading dask-2022.2.0-py3-none-any.whl (1.1 MB)\n",
      "\u001b[K     |████████████████████████████████| 1.1 MB 4.3 MB/s \n",
      "\u001b[?25hCollecting partd>=0.3.10\n",
      "  Downloading partd-1.2.0-py3-none-any.whl (19 kB)\n",
      "Requirement already satisfied: cloudpickle>=1.1.1 in /usr/local/lib/python3.7/dist-packages (from dask>=2021.12) (1.3.0)\n",
      "Requirement already satisfied: packaging>=20.0 in /usr/local/lib/python3.7/dist-packages (from dask>=2021.12) (21.3)\n",
      "Requirement already satisfied: toolz>=0.8.2 in /usr/local/lib/python3.7/dist-packages (from dask>=2021.12) (0.12.0)\n",
      "Collecting fsspec>=0.6.0\n",
      "  Downloading fsspec-2022.5.0-py3-none-any.whl (140 kB)\n",
      "\u001b[K     |████████████████████████████████| 140 kB 53.0 MB/s \n",
      "\u001b[?25hCollecting pyyaml>=5.3.1\n",
      "  Downloading PyYAML-6.0-cp37-cp37m-manylinux_2_5_x86_64.manylinux1_x86_64.manylinux_2_12_x86_64.manylinux2010_x86_64.whl (596 kB)\n",
      "\u001b[K     |████████████████████████████████| 596 kB 48.7 MB/s \n",
      "\u001b[?25hRequirement already satisfied: pyparsing!=3.0.5,>=2.0.2 in /usr/local/lib/python3.7/dist-packages (from packaging>=20.0->dask>=2021.12) (3.0.9)\n",
      "Collecting locket\n",
      "  Downloading locket-1.0.0-py2.py3-none-any.whl (4.4 kB)\n",
      "Installing collected packages: locket, pyyaml, partd, fsspec, dask\n",
      "  Attempting uninstall: pyyaml\n",
      "    Found existing installation: PyYAML 3.13\n",
      "    Uninstalling PyYAML-3.13:\n",
      "      Successfully uninstalled PyYAML-3.13\n",
      "  Attempting uninstall: dask\n",
      "    Found existing installation: dask 2.12.0\n",
      "    Uninstalling dask-2.12.0:\n",
      "      Successfully uninstalled dask-2.12.0\n",
      "Successfully installed dask-2022.2.0 fsspec-2022.5.0 locket-1.0.0 partd-1.2.0 pyyaml-6.0\n",
      "Looking in indexes: https://pypi.org/simple, https://us-python.pkg.dev/colab-wheels/public/simple/\n",
      "Collecting distributed>=2012.12\n",
      "  Downloading distributed-2022.2.0-py3-none-any.whl (837 kB)\n",
      "\u001b[K     |████████████████████████████████| 837 kB 4.2 MB/s \n",
      "\u001b[?25hRequirement already satisfied: packaging>=20.0 in /usr/local/lib/python3.7/dist-packages (from distributed>=2012.12) (21.3)\n",
      "Collecting cloudpickle>=1.5.0\n",
      "  Downloading cloudpickle-2.1.0-py3-none-any.whl (25 kB)\n",
      "Requirement already satisfied: zict>=0.1.3 in /usr/local/lib/python3.7/dist-packages (from distributed>=2012.12) (2.2.0)\n",
      "Requirement already satisfied: tornado>=5 in /usr/local/lib/python3.7/dist-packages (from distributed>=2012.12) (5.1.1)\n",
      "Requirement already satisfied: jinja2 in /usr/local/lib/python3.7/dist-packages (from distributed>=2012.12) (2.11.3)\n",
      "Requirement already satisfied: tblib>=1.6.0 in /usr/local/lib/python3.7/dist-packages (from distributed>=2012.12) (1.7.0)\n",
      "Requirement already satisfied: pyyaml in /usr/local/lib/python3.7/dist-packages (from distributed>=2012.12) (6.0)\n",
      "Requirement already satisfied: sortedcontainers!=2.0.0,!=2.0.1 in /usr/local/lib/python3.7/dist-packages (from distributed>=2012.12) (2.4.0)\n",
      "Requirement already satisfied: setuptools in /usr/local/lib/python3.7/dist-packages (from distributed>=2012.12) (57.4.0)\n",
      "Requirement already satisfied: toolz>=0.8.2 in /usr/local/lib/python3.7/dist-packages (from distributed>=2012.12) (0.12.0)\n",
      "Requirement already satisfied: psutil>=5.0 in /usr/local/lib/python3.7/dist-packages (from distributed>=2012.12) (5.4.8)\n",
      "Requirement already satisfied: click>=6.6 in /usr/local/lib/python3.7/dist-packages (from distributed>=2012.12) (7.1.2)\n",
      "Requirement already satisfied: msgpack>=0.6.0 in /usr/local/lib/python3.7/dist-packages (from distributed>=2012.12) (1.0.4)\n",
      "Requirement already satisfied: dask==2022.02.0 in /usr/local/lib/python3.7/dist-packages (from distributed>=2012.12) (2022.2.0)\n",
      "Requirement already satisfied: partd>=0.3.10 in /usr/local/lib/python3.7/dist-packages (from dask==2022.02.0->distributed>=2012.12) (1.2.0)\n",
      "Requirement already satisfied: fsspec>=0.6.0 in /usr/local/lib/python3.7/dist-packages (from dask==2022.02.0->distributed>=2012.12) (2022.5.0)\n",
      "Requirement already satisfied: pyparsing!=3.0.5,>=2.0.2 in /usr/local/lib/python3.7/dist-packages (from packaging>=20.0->distributed>=2012.12) (3.0.9)\n",
      "Requirement already satisfied: locket in /usr/local/lib/python3.7/dist-packages (from partd>=0.3.10->dask==2022.02.0->distributed>=2012.12) (1.0.0)\n",
      "Requirement already satisfied: heapdict in /usr/local/lib/python3.7/dist-packages (from zict>=0.1.3->distributed>=2012.12) (1.0.1)\n",
      "Requirement already satisfied: MarkupSafe>=0.23 in /usr/local/lib/python3.7/dist-packages (from jinja2->distributed>=2012.12) (2.0.1)\n",
      "Installing collected packages: cloudpickle, distributed\n",
      "  Attempting uninstall: cloudpickle\n",
      "    Found existing installation: cloudpickle 1.3.0\n",
      "    Uninstalling cloudpickle-1.3.0:\n",
      "      Successfully uninstalled cloudpickle-1.3.0\n",
      "  Attempting uninstall: distributed\n",
      "    Found existing installation: distributed 1.25.3\n",
      "    Uninstalling distributed-1.25.3:\n",
      "      Successfully uninstalled distributed-1.25.3\n",
      "\u001b[31mERROR: pip's dependency resolver does not currently take into account all the packages that are installed. This behaviour is the source of the following dependency conflicts.\n",
      "gym 0.17.3 requires cloudpickle<1.7.0,>=1.2.0, but you have cloudpickle 2.1.0 which is incompatible.\u001b[0m\n",
      "Successfully installed cloudpickle-2.1.0 distributed-2022.2.0\n",
      "Looking in indexes: https://pypi.org/simple, https://us-python.pkg.dev/colab-wheels/public/simple/\n",
      "Requirement already satisfied: pyyaml in /usr/local/lib/python3.7/dist-packages (6.0)\n",
      "Looking in indexes: https://pypi.org/simple, https://us-python.pkg.dev/colab-wheels/public/simple/\n",
      "Requirement already satisfied: pandas>=1.0 in /usr/local/lib/python3.7/dist-packages (1.3.5)\n",
      "Requirement already satisfied: python-dateutil>=2.7.3 in /usr/local/lib/python3.7/dist-packages (from pandas>=1.0) (2.8.2)\n",
      "Requirement already satisfied: numpy>=1.17.3 in /usr/local/lib/python3.7/dist-packages (from pandas>=1.0) (1.21.6)\n",
      "Requirement already satisfied: pytz>=2017.3 in /usr/local/lib/python3.7/dist-packages (from pandas>=1.0) (2022.1)\n",
      "Requirement already satisfied: six>=1.5 in /usr/local/lib/python3.7/dist-packages (from python-dateutil>=2.7.3->pandas>=1.0) (1.15.0)\n",
      "Looking in indexes: https://pypi.org/simple, https://us-python.pkg.dev/colab-wheels/public/simple/\n",
      "Collecting liac-arff\n",
      "  Downloading liac-arff-2.5.0.tar.gz (13 kB)\n",
      "Building wheels for collected packages: liac-arff\n",
      "  Building wheel for liac-arff (setup.py) ... \u001b[?25l\u001b[?25hdone\n",
      "  Created wheel for liac-arff: filename=liac_arff-2.5.0-py3-none-any.whl size=11732 sha256=31d10d416b3e13a6a837c81fa22c5b0f80e78985521cd9ee7b12380cb52b8b27\n",
      "  Stored in directory: /root/.cache/pip/wheels/1f/0f/15/332ca86cbebf25ddf98518caaf887945fbe1712b97a0f2493b\n",
      "Successfully built liac-arff\n",
      "Installing collected packages: liac-arff\n",
      "Successfully installed liac-arff-2.5.0\n",
      "Looking in indexes: https://pypi.org/simple, https://us-python.pkg.dev/colab-wheels/public/simple/\n",
      "Requirement already satisfied: threadpoolctl in /usr/local/lib/python3.7/dist-packages (3.1.0)\n",
      "Looking in indexes: https://pypi.org/simple, https://us-python.pkg.dev/colab-wheels/public/simple/\n",
      "Collecting ConfigSpace<0.5,>=0.4.21\n",
      "  Downloading ConfigSpace-0.4.21-cp37-cp37m-manylinux_2_17_x86_64.manylinux2014_x86_64.whl (4.3 MB)\n",
      "\u001b[K     |████████████████████████████████| 4.3 MB 4.1 MB/s \n",
      "\u001b[?25hRequirement already satisfied: pyparsing in /usr/local/lib/python3.7/dist-packages (from ConfigSpace<0.5,>=0.4.21) (3.0.9)\n",
      "Requirement already satisfied: scipy in /usr/local/lib/python3.7/dist-packages (from ConfigSpace<0.5,>=0.4.21) (1.7.3)\n",
      "Requirement already satisfied: numpy in /usr/local/lib/python3.7/dist-packages (from ConfigSpace<0.5,>=0.4.21) (1.21.6)\n",
      "Requirement already satisfied: cython in /usr/local/lib/python3.7/dist-packages (from ConfigSpace<0.5,>=0.4.21) (0.29.30)\n",
      "Installing collected packages: ConfigSpace\n",
      "Successfully installed ConfigSpace-0.4.21\n",
      "Looking in indexes: https://pypi.org/simple, https://us-python.pkg.dev/colab-wheels/public/simple/\n",
      "Collecting pynisher<0.7,>=0.6.3\n",
      "  Downloading pynisher-0.6.4.tar.gz (11 kB)\n",
      "Requirement already satisfied: setuptools in /usr/local/lib/python3.7/dist-packages (from pynisher<0.7,>=0.6.3) (57.4.0)\n",
      "Requirement already satisfied: psutil in /usr/local/lib/python3.7/dist-packages (from pynisher<0.7,>=0.6.3) (5.4.8)\n",
      "Building wheels for collected packages: pynisher\n",
      "  Building wheel for pynisher (setup.py) ... \u001b[?25l\u001b[?25hdone\n",
      "  Created wheel for pynisher: filename=pynisher-0.6.4-py3-none-any.whl size=7043 sha256=f43a73c55ff93d94a728f77258b1360541fb25f291d4ad709026592b7595eaaf\n",
      "  Stored in directory: /root/.cache/pip/wheels/42/71/95/7555ec3253e1ba8add72ae5febf1b015d297f3b73ba296d6f6\n",
      "Successfully built pynisher\n",
      "Installing collected packages: pynisher\n",
      "Successfully installed pynisher-0.6.4\n",
      "Looking in indexes: https://pypi.org/simple, https://us-python.pkg.dev/colab-wheels/public/simple/\n",
      "Collecting pyrfr<0.9,>=0.8.1\n",
      "  Downloading pyrfr-0.8.3-cp37-cp37m-manylinux_2_17_x86_64.manylinux2014_x86_64.whl (4.4 MB)\n",
      "\u001b[K     |████████████████████████████████| 4.4 MB 4.3 MB/s \n",
      "\u001b[?25hInstalling collected packages: pyrfr\n",
      "Successfully installed pyrfr-0.8.3\n",
      "Looking in indexes: https://pypi.org/simple, https://us-python.pkg.dev/colab-wheels/public/simple/\n",
      "Collecting smac<1.3,>=1.2\n",
      "  Downloading smac-1.2.tar.gz (260 kB)\n",
      "\u001b[K     |████████████████████████████████| 260 kB 4.3 MB/s \n",
      "\u001b[?25hRequirement already satisfied: numpy>=1.7.1 in /usr/local/lib/python3.7/dist-packages (from smac<1.3,>=1.2) (1.21.6)\n",
      "Requirement already satisfied: scipy>=1.7.0 in /usr/local/lib/python3.7/dist-packages (from smac<1.3,>=1.2) (1.7.3)\n",
      "Requirement already satisfied: psutil in /usr/local/lib/python3.7/dist-packages (from smac<1.3,>=1.2) (5.4.8)\n",
      "Requirement already satisfied: pynisher>=0.4.1 in /usr/local/lib/python3.7/dist-packages (from smac<1.3,>=1.2) (0.6.4)\n",
      "Requirement already satisfied: ConfigSpace<0.5,>=0.4.14 in /usr/local/lib/python3.7/dist-packages (from smac<1.3,>=1.2) (0.4.21)\n",
      "Requirement already satisfied: joblib in /usr/local/lib/python3.7/dist-packages (from smac<1.3,>=1.2) (1.1.0)\n",
      "Requirement already satisfied: scikit-learn>=0.22.0 in /usr/local/lib/python3.7/dist-packages (from smac<1.3,>=1.2) (0.24.2)\n",
      "Requirement already satisfied: pyrfr>=0.8.0 in /usr/local/lib/python3.7/dist-packages (from smac<1.3,>=1.2) (0.8.3)\n",
      "Requirement already satisfied: dask in /usr/local/lib/python3.7/dist-packages (from smac<1.3,>=1.2) (2022.2.0)\n",
      "Requirement already satisfied: distributed in /usr/local/lib/python3.7/dist-packages (from smac<1.3,>=1.2) (2022.2.0)\n",
      "Collecting emcee>=3.0.0\n",
      "  Downloading emcee-3.1.2-py2.py3-none-any.whl (46 kB)\n",
      "\u001b[K     |████████████████████████████████| 46 kB 4.0 MB/s \n",
      "\u001b[?25hRequirement already satisfied: cython in /usr/local/lib/python3.7/dist-packages (from ConfigSpace<0.5,>=0.4.14->smac<1.3,>=1.2) (0.29.30)\n",
      "Requirement already satisfied: pyparsing in /usr/local/lib/python3.7/dist-packages (from ConfigSpace<0.5,>=0.4.14->smac<1.3,>=1.2) (3.0.9)\n",
      "Requirement already satisfied: setuptools in /usr/local/lib/python3.7/dist-packages (from pynisher>=0.4.1->smac<1.3,>=1.2) (57.4.0)\n",
      "Requirement already satisfied: threadpoolctl>=2.0.0 in /usr/local/lib/python3.7/dist-packages (from scikit-learn>=0.22.0->smac<1.3,>=1.2) (3.1.0)\n",
      "Requirement already satisfied: toolz>=0.8.2 in /usr/local/lib/python3.7/dist-packages (from dask->smac<1.3,>=1.2) (0.12.0)\n",
      "Requirement already satisfied: pyyaml>=5.3.1 in /usr/local/lib/python3.7/dist-packages (from dask->smac<1.3,>=1.2) (6.0)\n",
      "Requirement already satisfied: fsspec>=0.6.0 in /usr/local/lib/python3.7/dist-packages (from dask->smac<1.3,>=1.2) (2022.5.0)\n",
      "Requirement already satisfied: cloudpickle>=1.1.1 in /usr/local/lib/python3.7/dist-packages (from dask->smac<1.3,>=1.2) (2.1.0)\n",
      "Requirement already satisfied: partd>=0.3.10 in /usr/local/lib/python3.7/dist-packages (from dask->smac<1.3,>=1.2) (1.2.0)\n",
      "Requirement already satisfied: packaging>=20.0 in /usr/local/lib/python3.7/dist-packages (from dask->smac<1.3,>=1.2) (21.3)\n",
      "Requirement already satisfied: locket in /usr/local/lib/python3.7/dist-packages (from partd>=0.3.10->dask->smac<1.3,>=1.2) (1.0.0)\n",
      "Requirement already satisfied: msgpack>=0.6.0 in /usr/local/lib/python3.7/dist-packages (from distributed->smac<1.3,>=1.2) (1.0.4)\n",
      "Requirement already satisfied: click>=6.6 in /usr/local/lib/python3.7/dist-packages (from distributed->smac<1.3,>=1.2) (7.1.2)\n",
      "Requirement already satisfied: tblib>=1.6.0 in /usr/local/lib/python3.7/dist-packages (from distributed->smac<1.3,>=1.2) (1.7.0)\n",
      "Requirement already satisfied: zict>=0.1.3 in /usr/local/lib/python3.7/dist-packages (from distributed->smac<1.3,>=1.2) (2.2.0)\n",
      "Requirement already satisfied: jinja2 in /usr/local/lib/python3.7/dist-packages (from distributed->smac<1.3,>=1.2) (2.11.3)\n",
      "Requirement already satisfied: tornado>=5 in /usr/local/lib/python3.7/dist-packages (from distributed->smac<1.3,>=1.2) (5.1.1)\n",
      "Requirement already satisfied: sortedcontainers!=2.0.0,!=2.0.1 in /usr/local/lib/python3.7/dist-packages (from distributed->smac<1.3,>=1.2) (2.4.0)\n",
      "Requirement already satisfied: heapdict in /usr/local/lib/python3.7/dist-packages (from zict>=0.1.3->distributed->smac<1.3,>=1.2) (1.0.1)\n",
      "Requirement already satisfied: MarkupSafe>=0.23 in /usr/local/lib/python3.7/dist-packages (from jinja2->distributed->smac<1.3,>=1.2) (2.0.1)\n",
      "Building wheels for collected packages: smac\n",
      "  Building wheel for smac (setup.py) ... \u001b[?25l\u001b[?25hdone\n",
      "  Created wheel for smac: filename=smac-1.2-py3-none-any.whl size=215933 sha256=726170d5b6fc34a732b8698bbadc7e76bff7bd6fc2b1618ee8f547bc67cc9cb1\n",
      "  Stored in directory: /root/.cache/pip/wheels/ad/95/67/6afc6b04d3715070c853d0a9d7c7b1fb822def38671dfbbb9f\n",
      "Successfully built smac\n",
      "Installing collected packages: emcee, smac\n",
      "Successfully installed emcee-3.1.2 smac-1.2\n",
      "Looking in indexes: https://pypi.org/simple, https://us-python.pkg.dev/colab-wheels/public/simple/\n",
      "Collecting auto-sklearn\n",
      "  Downloading auto-sklearn-0.14.7.tar.gz (6.4 MB)\n",
      "\u001b[K     |████████████████████████████████| 6.4 MB 3.7 MB/s \n",
      "\u001b[?25hRequirement already satisfied: setuptools in /usr/local/lib/python3.7/dist-packages (from auto-sklearn) (57.4.0)\n",
      "Requirement already satisfied: typing_extensions in /usr/local/lib/python3.7/dist-packages (from auto-sklearn) (4.1.1)\n",
      "Requirement already satisfied: distro in /usr/local/lib/python3.7/dist-packages (from auto-sklearn) (1.7.0)\n",
      "Requirement already satisfied: numpy>=1.9.0 in /usr/local/lib/python3.7/dist-packages (from auto-sklearn) (1.21.6)\n",
      "Requirement already satisfied: scipy>=1.7.0 in /usr/local/lib/python3.7/dist-packages (from auto-sklearn) (1.7.3)\n",
      "Requirement already satisfied: joblib in /usr/local/lib/python3.7/dist-packages (from auto-sklearn) (1.1.0)\n",
      "Requirement already satisfied: scikit-learn<0.25.0,>=0.24.0 in /usr/local/lib/python3.7/dist-packages (from auto-sklearn) (0.24.2)\n",
      "Requirement already satisfied: dask>=2021.12 in /usr/local/lib/python3.7/dist-packages (from auto-sklearn) (2022.2.0)\n",
      "Requirement already satisfied: distributed>=2012.12 in /usr/local/lib/python3.7/dist-packages (from auto-sklearn) (2022.2.0)\n",
      "Requirement already satisfied: pyyaml in /usr/local/lib/python3.7/dist-packages (from auto-sklearn) (6.0)\n",
      "Requirement already satisfied: pandas>=1.0 in /usr/local/lib/python3.7/dist-packages (from auto-sklearn) (1.3.5)\n",
      "Requirement already satisfied: liac-arff in /usr/local/lib/python3.7/dist-packages (from auto-sklearn) (2.5.0)\n",
      "Requirement already satisfied: threadpoolctl in /usr/local/lib/python3.7/dist-packages (from auto-sklearn) (3.1.0)\n",
      "Requirement already satisfied: ConfigSpace<0.5,>=0.4.21 in /usr/local/lib/python3.7/dist-packages (from auto-sklearn) (0.4.21)\n",
      "Requirement already satisfied: pynisher<0.7,>=0.6.3 in /usr/local/lib/python3.7/dist-packages (from auto-sklearn) (0.6.4)\n",
      "Requirement already satisfied: pyrfr<0.9,>=0.8.1 in /usr/local/lib/python3.7/dist-packages (from auto-sklearn) (0.8.3)\n",
      "Requirement already satisfied: smac<1.3,>=1.2 in /usr/local/lib/python3.7/dist-packages (from auto-sklearn) (1.2)\n",
      "Requirement already satisfied: cython in /usr/local/lib/python3.7/dist-packages (from ConfigSpace<0.5,>=0.4.21->auto-sklearn) (0.29.30)\n",
      "Requirement already satisfied: pyparsing in /usr/local/lib/python3.7/dist-packages (from ConfigSpace<0.5,>=0.4.21->auto-sklearn) (3.0.9)\n",
      "Requirement already satisfied: toolz>=0.8.2 in /usr/local/lib/python3.7/dist-packages (from dask>=2021.12->auto-sklearn) (0.12.0)\n",
      "Requirement already satisfied: cloudpickle>=1.1.1 in /usr/local/lib/python3.7/dist-packages (from dask>=2021.12->auto-sklearn) (2.1.0)\n",
      "Requirement already satisfied: partd>=0.3.10 in /usr/local/lib/python3.7/dist-packages (from dask>=2021.12->auto-sklearn) (1.2.0)\n",
      "Requirement already satisfied: fsspec>=0.6.0 in /usr/local/lib/python3.7/dist-packages (from dask>=2021.12->auto-sklearn) (2022.5.0)\n",
      "Requirement already satisfied: packaging>=20.0 in /usr/local/lib/python3.7/dist-packages (from dask>=2021.12->auto-sklearn) (21.3)\n",
      "Requirement already satisfied: msgpack>=0.6.0 in /usr/local/lib/python3.7/dist-packages (from distributed>=2012.12->auto-sklearn) (1.0.4)\n",
      "Requirement already satisfied: click>=6.6 in /usr/local/lib/python3.7/dist-packages (from distributed>=2012.12->auto-sklearn) (7.1.2)\n",
      "Requirement already satisfied: psutil>=5.0 in /usr/local/lib/python3.7/dist-packages (from distributed>=2012.12->auto-sklearn) (5.4.8)\n",
      "Requirement already satisfied: zict>=0.1.3 in /usr/local/lib/python3.7/dist-packages (from distributed>=2012.12->auto-sklearn) (2.2.0)\n",
      "Requirement already satisfied: jinja2 in /usr/local/lib/python3.7/dist-packages (from distributed>=2012.12->auto-sklearn) (2.11.3)\n",
      "Requirement already satisfied: tblib>=1.6.0 in /usr/local/lib/python3.7/dist-packages (from distributed>=2012.12->auto-sklearn) (1.7.0)\n",
      "Requirement already satisfied: sortedcontainers!=2.0.0,!=2.0.1 in /usr/local/lib/python3.7/dist-packages (from distributed>=2012.12->auto-sklearn) (2.4.0)\n",
      "Requirement already satisfied: tornado>=5 in /usr/local/lib/python3.7/dist-packages (from distributed>=2012.12->auto-sklearn) (5.1.1)\n",
      "Requirement already satisfied: pytz>=2017.3 in /usr/local/lib/python3.7/dist-packages (from pandas>=1.0->auto-sklearn) (2022.1)\n",
      "Requirement already satisfied: python-dateutil>=2.7.3 in /usr/local/lib/python3.7/dist-packages (from pandas>=1.0->auto-sklearn) (2.8.2)\n",
      "Requirement already satisfied: locket in /usr/local/lib/python3.7/dist-packages (from partd>=0.3.10->dask>=2021.12->auto-sklearn) (1.0.0)\n",
      "Requirement already satisfied: six>=1.5 in /usr/local/lib/python3.7/dist-packages (from python-dateutil>=2.7.3->pandas>=1.0->auto-sklearn) (1.15.0)\n",
      "Requirement already satisfied: emcee>=3.0.0 in /usr/local/lib/python3.7/dist-packages (from smac<1.3,>=1.2->auto-sklearn) (3.1.2)\n",
      "Requirement already satisfied: heapdict in /usr/local/lib/python3.7/dist-packages (from zict>=0.1.3->distributed>=2012.12->auto-sklearn) (1.0.1)\n",
      "Requirement already satisfied: MarkupSafe>=0.23 in /usr/local/lib/python3.7/dist-packages (from jinja2->distributed>=2012.12->auto-sklearn) (2.0.1)\n",
      "Building wheels for collected packages: auto-sklearn\n",
      "  Building wheel for auto-sklearn (setup.py) ... \u001b[?25l\u001b[?25hdone\n",
      "  Created wheel for auto-sklearn: filename=auto_sklearn-0.14.7-py3-none-any.whl size=6602873 sha256=4bfc9bc5506fd48506e091ed78ec9018ec5ed09d3fecc1cfb1296060f5579756\n",
      "  Stored in directory: /root/.cache/pip/wheels/ba/43/5c/2fbe6fd19e3af314cbc4aa808378068d8ddd6792064f4a2448\n",
      "Successfully built auto-sklearn\n",
      "Installing collected packages: auto-sklearn\n",
      "Successfully installed auto-sklearn-0.14.7\n"
     ]
    }
   ],
   "source": [
    "!sudo apt-get install build-essential swig\n",
    "!curl https://raw.githubusercontent.com/automl/auto-sklearn/master/requirements.txt | xargs -n 1 -L 1 pip install\n",
    "!pip install auto-sklearn"
   ]
  },
  {
   "cell_type": "code",
   "execution_count": 1,
   "metadata": {
    "id": "8mWWzofl5RCu"
   },
   "outputs": [],
   "source": [
    "import pandas as pd\n",
    "from sklearn.model_selection import train_test_split\n",
    "import numpy as np\n",
    "\n"
   ]
  },
  {
   "cell_type": "code",
   "execution_count": 2,
   "metadata": {
    "id": "hvWrvjHx6RRC"
   },
   "outputs": [],
   "source": [
    "churn_df = pd.read_csv(r'/content/drive/MyDrive/3 AutoML/WA_Fn-UseC_-Telco-Customer-Churn.csv')"
   ]
  },
  {
   "cell_type": "code",
   "execution_count": 3,
   "metadata": {
    "id": "LXazmG9q5v5b"
   },
   "outputs": [],
   "source": [
    "churn_df = churn_df.replace(r'^\\s*$', np.nan, regex=True)\n",
    "churn_df.iloc[:, 19] = pd.to_numeric(churn_df.iloc[:, 19], errors='coerce')\n",
    "\n",
    "from sklearn.impute import SimpleImputer\n",
    "imp_median = SimpleImputer(missing_values=np.nan, strategy='median')\n",
    "churn_df.iloc[:, 19] = imp_median.fit_transform(churn_df.iloc[:, 19].values.reshape(-1, 1) )"
   ]
  },
  {
   "cell_type": "code",
   "execution_count": 4,
   "metadata": {
    "id": "GA9EP1JD5v2m"
   },
   "outputs": [],
   "source": [
    "from sklearn.compose import make_column_transformer\n",
    "from sklearn.preprocessing import OrdinalEncoder\n",
    "\n",
    "categorical_columns = ['gender', 'Partner', 'Dependents','PhoneService','MultipleLines','InternetService','OnlineSecurity','OnlineBackup','DeviceProtection','TechSupport','StreamingTV','StreamingMovies','Contract','PaperlessBilling','PaymentMethod','Churn']\n",
    "column_trans = make_column_transformer((OrdinalEncoder(), categorical_columns))\n",
    "\n",
    "churn_transformed=column_trans.fit_transform(churn_df)\n"
   ]
  },
  {
   "cell_type": "code",
   "execution_count": 5,
   "metadata": {
    "id": "dTKJ7OA_5v0L"
   },
   "outputs": [],
   "source": [
    "churn_df_trans = churn_df.copy()\n",
    "churn_df_trans = pd.DataFrame(churn_transformed, columns=categorical_columns).astype(int)"
   ]
  },
  {
   "cell_type": "code",
   "execution_count": 6,
   "metadata": {
    "id": "-K7xhpbM5vxJ"
   },
   "outputs": [],
   "source": [
    "churn_df.update(churn_df_trans)"
   ]
  },
  {
   "cell_type": "code",
   "execution_count": 49,
   "metadata": {
    "id": "YnIYe2VgClCQ"
   },
   "outputs": [],
   "source": [
    "l = ['gender', 'Partner', 'Dependents','PhoneService','MultipleLines','InternetService','OnlineSecurity','OnlineBackup','DeviceProtection','TechSupport','StreamingTV','StreamingMovies','Contract','PaperlessBilling','PaymentMethod','Churn']\n",
    "churn_df[l] = churn_df[l].apply(pd.to_numeric)"
   ]
  },
  {
   "cell_type": "code",
   "execution_count": 51,
   "metadata": {
    "id": "KCNhK3Z15vuQ"
   },
   "outputs": [],
   "source": [
    "churn_df_X = churn_df.copy()\n",
    "churn_df_y =  churn_df_X.pop('Churn')"
   ]
  },
  {
   "cell_type": "code",
   "execution_count": 52,
   "metadata": {
    "colab": {
     "base_uri": "https://localhost:8080/"
    },
    "id": "dD3nXmCb5vrc",
    "outputId": "95dfb732-f37c-4afa-f367-ab7fa0864c71"
   },
   "outputs": [
    {
     "data": {
      "text/plain": [
       "0       7590-VHVEG\n",
       "1       5575-GNVDE\n",
       "2       3668-QPYBK\n",
       "3       7795-CFOCW\n",
       "4       9237-HQITU\n",
       "           ...    \n",
       "7038    6840-RESVB\n",
       "7039    2234-XADUH\n",
       "7040    4801-JZAZL\n",
       "7041    8361-LTMKD\n",
       "7042    3186-AJIEK\n",
       "Name: customerID, Length: 7043, dtype: object"
      ]
     },
     "execution_count": 52,
     "metadata": {},
     "output_type": "execute_result"
    }
   ],
   "source": [
    "churn_df_X.pop(\"customerID\")"
   ]
  },
  {
   "cell_type": "code",
   "execution_count": 53,
   "metadata": {
    "id": "iUFLduFp5vou"
   },
   "outputs": [],
   "source": [
    "churn_df_y=pd.to_numeric(churn_df_y).astype(int)\n",
    "X_train, X_test, y_train, y_test = train_test_split(churn_df_X, churn_df_y, train_size=0.80)"
   ]
  },
  {
   "cell_type": "code",
   "execution_count": 54,
   "metadata": {
    "id": "SI_6B9eZ5vl5"
   },
   "outputs": [],
   "source": [
    "import autosklearn.classification"
   ]
  },
  {
   "cell_type": "code",
   "execution_count": 55,
   "metadata": {
    "id": "vWtqSVDv5vjC"
   },
   "outputs": [],
   "source": [
    "automl = autosklearn.classification.AutoSklearnClassifier(time_left_for_this_task=1200, per_run_time_limit=30, n_jobs=2,\n",
    "    include = {'classifier' : [\"random_forest\", \"sgd\"]})\n"
   ]
  },
  {
   "cell_type": "code",
   "execution_count": 56,
   "metadata": {
    "colab": {
     "base_uri": "https://localhost:8080/"
    },
    "id": "RnK9Rlhw-jZJ",
    "outputId": "2848a0d3-e9b8-4329-a015-501098230bb2"
   },
   "outputs": [
    {
     "name": "stdout",
     "output_type": "stream",
     "text": [
      "<class 'pandas.core.frame.DataFrame'>\n",
      "Int64Index: 5634 entries, 2949 to 578\n",
      "Data columns (total 19 columns):\n",
      " #   Column            Non-Null Count  Dtype  \n",
      "---  ------            --------------  -----  \n",
      " 0   gender            5634 non-null   int64  \n",
      " 1   SeniorCitizen     5634 non-null   int64  \n",
      " 2   Partner           5634 non-null   int64  \n",
      " 3   Dependents        5634 non-null   int64  \n",
      " 4   tenure            5634 non-null   int64  \n",
      " 5   PhoneService      5634 non-null   int64  \n",
      " 6   MultipleLines     5634 non-null   int64  \n",
      " 7   InternetService   5634 non-null   int64  \n",
      " 8   OnlineSecurity    5634 non-null   int64  \n",
      " 9   OnlineBackup      5634 non-null   int64  \n",
      " 10  DeviceProtection  5634 non-null   int64  \n",
      " 11  TechSupport       5634 non-null   int64  \n",
      " 12  StreamingTV       5634 non-null   int64  \n",
      " 13  StreamingMovies   5634 non-null   int64  \n",
      " 14  Contract          5634 non-null   int64  \n",
      " 15  PaperlessBilling  5634 non-null   int64  \n",
      " 16  PaymentMethod     5634 non-null   int64  \n",
      " 17  MonthlyCharges    5634 non-null   float64\n",
      " 18  TotalCharges      5634 non-null   float64\n",
      "dtypes: float64(2), int64(17)\n",
      "memory usage: 880.3 KB\n"
     ]
    }
   ],
   "source": [
    "X_train.info()"
   ]
  },
  {
   "cell_type": "code",
   "execution_count": 57,
   "metadata": {
    "colab": {
     "base_uri": "https://localhost:8080/"
    },
    "id": "ug3rPZce5vgK",
    "outputId": "f5e847d8-140e-4992-c8b2-6e642c3e1cb6"
   },
   "outputs": [
    {
     "data": {
      "text/plain": [
       "AutoSklearnClassifier(include={'classifier': ['random_forest', 'sgd']},\n",
       "                      n_jobs=2, per_run_time_limit=30,\n",
       "                      time_left_for_this_task=1200)"
      ]
     },
     "execution_count": 57,
     "metadata": {},
     "output_type": "execute_result"
    }
   ],
   "source": [
    "automl.fit(X_train, y_train, X_test, y_test)"
   ]
  },
  {
   "cell_type": "code",
   "execution_count": 58,
   "metadata": {
    "colab": {
     "base_uri": "https://localhost:8080/"
    },
    "id": "_d5ax4k85vdN",
    "outputId": "2eeb06ae-f6c4-489e-ef93-c47997d12b05"
   },
   "outputs": [
    {
     "name": "stdout",
     "output_type": "stream",
     "text": [
      "{102: {'model_id': 102, 'rank': 1, 'cost': 0.1919354838709677, 'ensemble_weight': 0.08, 'data_preprocessor': <autosklearn.pipeline.components.data_preprocessing.DataPreprocessorChoice object at 0x7ffa1a78a890>, 'balancing': Balancing(random_state=1), 'feature_preprocessor': <autosklearn.pipeline.components.feature_preprocessing.FeaturePreprocessorChoice object at 0x7ffa1b878d50>, 'classifier': <autosklearn.pipeline.components.classification.ClassifierChoice object at 0x7ffa1b88bfd0>, 'sklearn_classifier': RandomForestClassifier(criterion='entropy', max_features=6, min_samples_leaf=15,\n",
      "                       min_samples_split=4, n_estimators=512, n_jobs=1,\n",
      "                       random_state=1, warm_start=True)}, 104: {'model_id': 104, 'rank': 2, 'cost': 0.206989247311828, 'ensemble_weight': 0.02, 'data_preprocessor': <autosklearn.pipeline.components.data_preprocessing.DataPreprocessorChoice object at 0x7ffa1ae55b10>, 'balancing': Balancing(random_state=1), 'feature_preprocessor': <autosklearn.pipeline.components.feature_preprocessing.FeaturePreprocessorChoice object at 0x7ffa1e2dad90>, 'classifier': <autosklearn.pipeline.components.classification.ClassifierChoice object at 0x7ffa1eada0d0>, 'sklearn_classifier': RandomForestClassifier(max_features=1, min_samples_leaf=14, min_samples_split=7,\n",
      "                       n_estimators=512, n_jobs=1, random_state=1,\n",
      "                       warm_start=True)}, 114: {'model_id': 114, 'rank': 3, 'cost': 0.19408602150537635, 'ensemble_weight': 0.02, 'data_preprocessor': <autosklearn.pipeline.components.data_preprocessing.DataPreprocessorChoice object at 0x7ffa1ce77d10>, 'balancing': Balancing(random_state=1), 'feature_preprocessor': <autosklearn.pipeline.components.feature_preprocessing.FeaturePreprocessorChoice object at 0x7ffa1b72f210>, 'classifier': <autosklearn.pipeline.components.classification.ClassifierChoice object at 0x7ffa1e74c350>, 'sklearn_classifier': RandomForestClassifier(bootstrap=False, criterion='entropy', max_features=5,\n",
      "                       min_samples_leaf=18, min_samples_split=4,\n",
      "                       n_estimators=512, n_jobs=1, random_state=1,\n",
      "                       warm_start=True)}, 115: {'model_id': 115, 'rank': 4, 'cost': 0.19354838709677424, 'ensemble_weight': 0.14, 'data_preprocessor': <autosklearn.pipeline.components.data_preprocessing.DataPreprocessorChoice object at 0x7ffa1ae55290>, 'balancing': Balancing(random_state=1), 'feature_preprocessor': <autosklearn.pipeline.components.feature_preprocessing.FeaturePreprocessorChoice object at 0x7ffa1d604550>, 'classifier': <autosklearn.pipeline.components.classification.ClassifierChoice object at 0x7ffa1d604bd0>, 'sklearn_classifier': RandomForestClassifier(criterion='entropy', max_features=3, min_samples_leaf=18,\n",
      "                       min_samples_split=3, n_estimators=512, n_jobs=1,\n",
      "                       random_state=1, warm_start=True)}, 117: {'model_id': 117, 'rank': 5, 'cost': 0.1919354838709677, 'ensemble_weight': 0.1, 'data_preprocessor': <autosklearn.pipeline.components.data_preprocessing.DataPreprocessorChoice object at 0x7ffa1aa26a50>, 'balancing': Balancing(random_state=1), 'feature_preprocessor': <autosklearn.pipeline.components.feature_preprocessing.FeaturePreprocessorChoice object at 0x7ffa1ec585d0>, 'classifier': <autosklearn.pipeline.components.classification.ClassifierChoice object at 0x7ffa1bec89d0>, 'sklearn_classifier': RandomForestClassifier(criterion='entropy', max_features=7, min_samples_leaf=17,\n",
      "                       min_samples_split=5, n_estimators=512, n_jobs=1,\n",
      "                       random_state=1, warm_start=True)}, 118: {'model_id': 118, 'rank': 6, 'cost': 0.19247311827956992, 'ensemble_weight': 0.08, 'data_preprocessor': <autosklearn.pipeline.components.data_preprocessing.DataPreprocessorChoice object at 0x7ffa1e608610>, 'balancing': Balancing(random_state=1), 'feature_preprocessor': <autosklearn.pipeline.components.feature_preprocessing.FeaturePreprocessorChoice object at 0x7ffa1c452dd0>, 'classifier': <autosklearn.pipeline.components.classification.ClassifierChoice object at 0x7ffa1c452410>, 'sklearn_classifier': RandomForestClassifier(max_features=4, min_samples_leaf=20,\n",
      "                       min_samples_split=11, n_estimators=512, n_jobs=1,\n",
      "                       random_state=1, warm_start=True)}, 124: {'model_id': 124, 'rank': 7, 'cost': 0.19354838709677424, 'ensemble_weight': 0.02, 'data_preprocessor': <autosklearn.pipeline.components.data_preprocessing.DataPreprocessorChoice object at 0x7ffa1d85b950>, 'balancing': Balancing(random_state=1), 'feature_preprocessor': <autosklearn.pipeline.components.feature_preprocessing.FeaturePreprocessorChoice object at 0x7ffa1c8ea810>, 'classifier': <autosklearn.pipeline.components.classification.ClassifierChoice object at 0x7ffa1c8ea550>, 'sklearn_classifier': RandomForestClassifier(criterion='entropy', max_features=27,\n",
      "                       min_samples_leaf=18, min_samples_split=7,\n",
      "                       n_estimators=512, n_jobs=1, random_state=1,\n",
      "                       warm_start=True)}, 21: {'model_id': 21, 'rank': 8, 'cost': 0.196236559139785, 'ensemble_weight': 0.08, 'data_preprocessor': <autosklearn.pipeline.components.data_preprocessing.DataPreprocessorChoice object at 0x7ffa1b74e490>, 'balancing': Balancing(random_state=1), 'feature_preprocessor': <autosklearn.pipeline.components.feature_preprocessing.FeaturePreprocessorChoice object at 0x7ffa1c3e6690>, 'classifier': <autosklearn.pipeline.components.classification.ClassifierChoice object at 0x7ffa1d1c1510>, 'sklearn_classifier': RandomForestClassifier(criterion='entropy', max_features=1, min_samples_leaf=6,\n",
      "                       min_samples_split=13, n_estimators=512, n_jobs=1,\n",
      "                       random_state=1, warm_start=True)}, 32: {'model_id': 32, 'rank': 9, 'cost': 0.2026881720430107, 'ensemble_weight': 0.02, 'data_preprocessor': <autosklearn.pipeline.components.data_preprocessing.DataPreprocessorChoice object at 0x7ffa1e5d2750>, 'balancing': Balancing(random_state=1), 'feature_preprocessor': <autosklearn.pipeline.components.feature_preprocessing.FeaturePreprocessorChoice object at 0x7ffa1d49aa10>, 'classifier': <autosklearn.pipeline.components.classification.ClassifierChoice object at 0x7ffa1c869d10>, 'sklearn_classifier': RandomForestClassifier(bootstrap=False, criterion='entropy', max_features=3,\n",
      "                       min_samples_split=19, n_estimators=512, n_jobs=1,\n",
      "                       random_state=1, warm_start=True)}, 46: {'model_id': 46, 'rank': 10, 'cost': 0.19354838709677424, 'ensemble_weight': 0.06, 'data_preprocessor': <autosklearn.pipeline.components.data_preprocessing.DataPreprocessorChoice object at 0x7ffa1b755190>, 'balancing': Balancing(random_state=1), 'feature_preprocessor': <autosklearn.pipeline.components.feature_preprocessing.FeaturePreprocessorChoice object at 0x7ffa18a94fd0>, 'classifier': <autosklearn.pipeline.components.classification.ClassifierChoice object at 0x7ffa1ad68c50>, 'sklearn_classifier': RandomForestClassifier(bootstrap=False, criterion='entropy', max_features=2,\n",
      "                       min_samples_leaf=19, min_samples_split=4,\n",
      "                       n_estimators=512, n_jobs=1, random_state=1,\n",
      "                       warm_start=True)}, 57: {'model_id': 57, 'rank': 11, 'cost': 0.21129032258064517, 'ensemble_weight': 0.04, 'data_preprocessor': <autosklearn.pipeline.components.data_preprocessing.DataPreprocessorChoice object at 0x7ffa1bddc910>, 'balancing': Balancing(random_state=1), 'feature_preprocessor': <autosklearn.pipeline.components.feature_preprocessing.FeaturePreprocessorChoice object at 0x7ffa1a4b6e90>, 'classifier': <autosklearn.pipeline.components.classification.ClassifierChoice object at 0x7ffa1887a6d0>, 'sklearn_classifier': SGDClassifier(alpha=0.001346838520133106, epsilon=1.8423697513609462e-05,\n",
      "              eta0=0.01, loss='modified_huber', max_iter=32, penalty='l1',\n",
      "              random_state=1, tol=1.686872318638251e-05, warm_start=True)}, 60: {'model_id': 60, 'rank': 12, 'cost': 0.19892473118279574, 'ensemble_weight': 0.08, 'data_preprocessor': <autosklearn.pipeline.components.data_preprocessing.DataPreprocessorChoice object at 0x7ffa18aa2c10>, 'balancing': Balancing(random_state=1), 'feature_preprocessor': <autosklearn.pipeline.components.feature_preprocessing.FeaturePreprocessorChoice object at 0x7ffa1b805e10>, 'classifier': <autosklearn.pipeline.components.classification.ClassifierChoice object at 0x7ffa1b805290>, 'sklearn_classifier': RandomForestClassifier(criterion='entropy', max_features=5, min_samples_leaf=13,\n",
      "                       min_samples_split=10, n_estimators=512, n_jobs=1,\n",
      "                       random_state=1, warm_start=True)}, 72: {'model_id': 72, 'rank': 13, 'cost': 0.19408602150537635, 'ensemble_weight': 0.04, 'data_preprocessor': <autosklearn.pipeline.components.data_preprocessing.DataPreprocessorChoice object at 0x7ffa1d847290>, 'balancing': Balancing(random_state=1), 'feature_preprocessor': <autosklearn.pipeline.components.feature_preprocessing.FeaturePreprocessorChoice object at 0x7ffa1b900c90>, 'classifier': <autosklearn.pipeline.components.classification.ClassifierChoice object at 0x7ffa1b140d10>, 'sklearn_classifier': RandomForestClassifier(bootstrap=False, criterion='entropy', max_features=5,\n",
      "                       min_samples_leaf=13, min_samples_split=8,\n",
      "                       n_estimators=512, n_jobs=1, random_state=1,\n",
      "                       warm_start=True)}, 73: {'model_id': 73, 'rank': 14, 'cost': 0.19999999999999996, 'ensemble_weight': 0.02, 'data_preprocessor': <autosklearn.pipeline.components.data_preprocessing.DataPreprocessorChoice object at 0x7ffa1a694850>, 'balancing': Balancing(random_state=1), 'feature_preprocessor': <autosklearn.pipeline.components.feature_preprocessing.FeaturePreprocessorChoice object at 0x7ffa185ec9d0>, 'classifier': <autosklearn.pipeline.components.classification.ClassifierChoice object at 0x7ffa185ee390>, 'sklearn_classifier': RandomForestClassifier(bootstrap=False, criterion='entropy', max_features=1,\n",
      "                       min_samples_leaf=17, min_samples_split=8,\n",
      "                       n_estimators=512, n_jobs=1, random_state=1,\n",
      "                       warm_start=True)}, 79: {'model_id': 79, 'rank': 15, 'cost': 0.20645161290322578, 'ensemble_weight': 0.02, 'data_preprocessor': <autosklearn.pipeline.components.data_preprocessing.DataPreprocessorChoice object at 0x7ffa1ac76250>, 'balancing': Balancing(random_state=1), 'feature_preprocessor': <autosklearn.pipeline.components.feature_preprocessing.FeaturePreprocessorChoice object at 0x7ffa1a7c98d0>, 'classifier': <autosklearn.pipeline.components.classification.ClassifierChoice object at 0x7ffa189b3e90>, 'sklearn_classifier': RandomForestClassifier(criterion='entropy', max_features=7, min_samples_leaf=14,\n",
      "                       min_samples_split=15, n_estimators=512, n_jobs=1,\n",
      "                       random_state=1, warm_start=True)}, 7: {'model_id': 7, 'rank': 16, 'cost': 0.19354838709677424, 'ensemble_weight': 0.06, 'data_preprocessor': <autosklearn.pipeline.components.data_preprocessing.DataPreprocessorChoice object at 0x7ffa1b219cd0>, 'balancing': Balancing(random_state=1), 'feature_preprocessor': <autosklearn.pipeline.components.feature_preprocessing.FeaturePreprocessorChoice object at 0x7ffa1acbf7d0>, 'classifier': <autosklearn.pipeline.components.classification.ClassifierChoice object at 0x7ffa18885f50>, 'sklearn_classifier': RandomForestClassifier(criterion='entropy', max_features=1, min_samples_leaf=5,\n",
      "                       min_samples_split=11, n_estimators=512, n_jobs=1,\n",
      "                       random_state=1, warm_start=True)}, 82: {'model_id': 82, 'rank': 17, 'cost': 0.19408602150537635, 'ensemble_weight': 0.02, 'data_preprocessor': <autosklearn.pipeline.components.data_preprocessing.DataPreprocessorChoice object at 0x7ffa1887cd90>, 'balancing': Balancing(random_state=1), 'feature_preprocessor': <autosklearn.pipeline.components.feature_preprocessing.FeaturePreprocessorChoice object at 0x7ffa18aa0510>, 'classifier': <autosklearn.pipeline.components.classification.ClassifierChoice object at 0x7ffa18aa0410>, 'sklearn_classifier': RandomForestClassifier(bootstrap=False, criterion='entropy', max_features=3,\n",
      "                       min_samples_leaf=11, min_samples_split=8,\n",
      "                       n_estimators=512, n_jobs=1, random_state=1,\n",
      "                       warm_start=True)}, 92: {'model_id': 92, 'rank': 18, 'cost': 0.20053763440860217, 'ensemble_weight': 0.04, 'data_preprocessor': <autosklearn.pipeline.components.data_preprocessing.DataPreprocessorChoice object at 0x7ffa17dd95d0>, 'balancing': Balancing(random_state=1), 'feature_preprocessor': <autosklearn.pipeline.components.feature_preprocessing.FeaturePreprocessorChoice object at 0x7ffa17d19a10>, 'classifier': <autosklearn.pipeline.components.classification.ClassifierChoice object at 0x7ffa17c45550>, 'sklearn_classifier': RandomForestClassifier(bootstrap=False, criterion='entropy', max_features=2,\n",
      "                       min_samples_leaf=9, min_samples_split=11,\n",
      "                       n_estimators=512, n_jobs=1, random_state=1,\n",
      "                       warm_start=True)}, 94: {'model_id': 94, 'rank': 19, 'cost': 0.19462365591397845, 'ensemble_weight': 0.04, 'data_preprocessor': <autosklearn.pipeline.components.data_preprocessing.DataPreprocessorChoice object at 0x7ffa1862c410>, 'balancing': Balancing(random_state=1), 'feature_preprocessor': <autosklearn.pipeline.components.feature_preprocessing.FeaturePreprocessorChoice object at 0x7ffa17eedb90>, 'classifier': <autosklearn.pipeline.components.classification.ClassifierChoice object at 0x7ffa17eefad0>, 'sklearn_classifier': RandomForestClassifier(bootstrap=False, max_features=6, min_samples_leaf=18,\n",
      "                       min_samples_split=13, n_estimators=512, n_jobs=1,\n",
      "                       random_state=1, warm_start=True)}, 96: {'model_id': 96, 'rank': 20, 'cost': 0.20430107526881724, 'ensemble_weight': 0.02, 'data_preprocessor': <autosklearn.pipeline.components.data_preprocessing.DataPreprocessorChoice object at 0x7ffa18b0d990>, 'balancing': Balancing(random_state=1), 'feature_preprocessor': <autosklearn.pipeline.components.feature_preprocessing.FeaturePreprocessorChoice object at 0x7ffa179a8250>, 'classifier': <autosklearn.pipeline.components.classification.ClassifierChoice object at 0x7ffa179a8e10>, 'sklearn_classifier': RandomForestClassifier(bootstrap=False, max_features=1, min_samples_leaf=20,\n",
      "                       min_samples_split=6, n_estimators=512, n_jobs=1,\n",
      "                       random_state=1, warm_start=True)}}\n"
     ]
    }
   ],
   "source": [
    "print(automl.show_models())"
   ]
  },
  {
   "cell_type": "code",
   "execution_count": 59,
   "metadata": {
    "colab": {
     "base_uri": "https://localhost:8080/"
    },
    "id": "_xCCBjdI5utT",
    "outputId": "50192d4c-f9f4-4cba-e44f-19d874b7c49f"
   },
   "outputs": [
    {
     "name": "stdout",
     "output_type": "stream",
     "text": [
      "auto-sklearn results:\n",
      "  Dataset name: cdd8b8da-0887-11ed-83f6-0242ac1c0002\n",
      "  Metric: accuracy\n",
      "  Best validation score: 0.808065\n",
      "  Number of target algorithm runs: 125\n",
      "  Number of successful target algorithm runs: 106\n",
      "  Number of crashed target algorithm runs: 2\n",
      "  Number of target algorithms that exceeded the time limit: 17\n",
      "  Number of target algorithms that exceeded the memory limit: 0\n",
      "\n"
     ]
    }
   ],
   "source": [
    "print(automl.sprint_statistics())"
   ]
  },
  {
   "cell_type": "code",
   "execution_count": 60,
   "metadata": {
    "colab": {
     "base_uri": "https://localhost:8080/"
    },
    "id": "NCYhlAWg7JCC",
    "outputId": "96701684-6929-462c-bf1c-76f0e5aee839"
   },
   "outputs": [
    {
     "data": {
      "text/plain": [
       "{'balancing:strategy': 'none',\n",
       " 'classifier:__choice__': 'random_forest',\n",
       " 'classifier:random_forest:bootstrap': 'True',\n",
       " 'classifier:random_forest:criterion': 'entropy',\n",
       " 'classifier:random_forest:max_depth': 'None',\n",
       " 'classifier:random_forest:max_features': 0.3438929807547332,\n",
       " 'classifier:random_forest:max_leaf_nodes': 'None',\n",
       " 'classifier:random_forest:min_impurity_decrease': 0.0,\n",
       " 'classifier:random_forest:min_samples_leaf': 15,\n",
       " 'classifier:random_forest:min_samples_split': 4,\n",
       " 'classifier:random_forest:min_weight_fraction_leaf': 0.0,\n",
       " 'data_preprocessor:__choice__': 'feature_type',\n",
       " 'data_preprocessor:feature_type:categorical_transformer:categorical_encoding:__choice__': 'one_hot_encoding',\n",
       " 'data_preprocessor:feature_type:categorical_transformer:category_coalescence:__choice__': 'no_coalescense',\n",
       " 'data_preprocessor:feature_type:numerical_transformer:imputation:strategy': 'most_frequent',\n",
       " 'data_preprocessor:feature_type:numerical_transformer:rescaling:__choice__': 'robust_scaler',\n",
       " 'data_preprocessor:feature_type:numerical_transformer:rescaling:robust_scaler:q_max': 0.7157938742053211,\n",
       " 'data_preprocessor:feature_type:numerical_transformer:rescaling:robust_scaler:q_min': 0.2524794482494002,\n",
       " 'feature_preprocessor:__choice__': 'polynomial',\n",
       " 'feature_preprocessor:polynomial:degree': 2,\n",
       " 'feature_preprocessor:polynomial:include_bias': 'False',\n",
       " 'feature_preprocessor:polynomial:interaction_only': 'False'}"
      ]
     },
     "execution_count": 60,
     "metadata": {},
     "output_type": "execute_result"
    }
   ],
   "source": [
    "automl.cv_results_['params'][np.argmax(automl.cv_results_['mean_test_score'])]"
   ]
  },
  {
   "cell_type": "code",
   "execution_count": 61,
   "metadata": {
    "id": "-4GxtjJb7I9i"
   },
   "outputs": [],
   "source": [
    "predictions = automl.predict(X_test)"
   ]
  },
  {
   "cell_type": "code",
   "execution_count": 62,
   "metadata": {
    "colab": {
     "base_uri": "https://localhost:8080/"
    },
    "id": "KDy6IR3E7I6Z",
    "outputId": "4be063f8-decb-410b-9945-7faf49fb0d31"
   },
   "outputs": [
    {
     "name": "stdout",
     "output_type": "stream",
     "text": [
      "Accuracy score 0.8048261178140526\n"
     ]
    }
   ],
   "source": [
    "import sklearn.metrics\n",
    "print(\"Accuracy score\", sklearn.metrics.accuracy_score(y_test, predictions))"
   ]
  },
  {
   "cell_type": "code",
   "execution_count": 18,
   "metadata": {
    "id": "evCyx4_x7QMq"
   },
   "outputs": [],
   "source": []
  },
  {
   "cell_type": "code",
   "execution_count": null,
   "metadata": {
    "id": "Edj8Mr4J7QJb"
   },
   "outputs": [],
   "source": []
  }
 ],
 "metadata": {
  "colab": {
   "name": "(7) Auto Sklearn.ipynb",
   "provenance": []
  },
  "kernelspec": {
   "display_name": "Python 3 (ipykernel)",
   "language": "python",
   "name": "python3"
  },
  "language_info": {
   "codemirror_mode": {
    "name": "ipython",
    "version": 3
   },
   "file_extension": ".py",
   "mimetype": "text/x-python",
   "name": "python",
   "nbconvert_exporter": "python",
   "pygments_lexer": "ipython3",
   "version": "3.9.12"
  }
 },
 "nbformat": 4,
 "nbformat_minor": 1
}
