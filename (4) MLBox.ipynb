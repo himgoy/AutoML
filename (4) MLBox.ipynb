{
 "cells": [
  {
   "cell_type": "code",
   "execution_count": null,
   "metadata": {
    "id": "qXnswUt6VhvQ"
   },
   "outputs": [],
   "source": [
    "!pip install mlbox"
   ]
  },
  {
   "cell_type": "code",
   "execution_count": 1,
   "metadata": {
    "id": "UkXsiBcuVnWr"
   },
   "outputs": [],
   "source": [
    "from mlbox.preprocessing import *\n",
    "from mlbox.optimisation import *\n",
    "from mlbox.prediction import *"
   ]
  },
  {
   "cell_type": "code",
   "execution_count": 2,
   "metadata": {
    "id": "BOcgAzdvV71k"
   },
   "outputs": [],
   "source": [
    "paths = [\"/content/drive/MyDrive/3 AutoML/WA_Fn-UseC_-Telco-Customer-Churntrain.csv\", \"/content/drive/MyDrive/3 AutoML/WA_Fn-UseC_-Telco-Customer-Churntest.csv\"]\n",
    "target_name = \"Churn\""
   ]
  },
  {
   "cell_type": "code",
   "execution_count": 3,
   "metadata": {
    "colab": {
     "base_uri": "https://localhost:8080/"
    },
    "id": "sd6PZ9R_WGAC",
    "outputId": "a8f8c424-606b-4c46-df8a-1f1bd8f8d049"
   },
   "outputs": [
    {
     "name": "stdout",
     "output_type": "stream",
     "text": [
      "\n",
      "reading csv : WA_Fn-UseC_-Telco-Customer-Churntrain.csv ...\n",
      "cleaning data ...\n",
      "CPU time: 7.2253334522247314 seconds\n",
      "\n",
      "reading csv : WA_Fn-UseC_-Telco-Customer-Churntest.csv ...\n",
      "cleaning data ...\n",
      "CPU time: 0.3032398223876953 seconds\n",
      "\n",
      "> Number of common features : 20\n",
      "\n",
      "gathering and crunching for train and test datasets ...\n",
      "reindexing for train and test datasets ...\n",
      "dropping training duplicates ...\n",
      "dropping constant variables on training set ...\n",
      "\n",
      "> Number of categorical features: 17\n",
      "> Number of numerical features: 3\n",
      "> Number of training samples : 5634\n",
      "> Number of test samples : 1409\n",
      "\n",
      "> You have no missing values on train set...\n",
      "\n",
      "> Task : classification\n",
      "No     4138\n",
      "Yes    1496\n",
      "Name: Churn, dtype: int64\n",
      "\n",
      "encoding target ...\n"
     ]
    }
   ],
   "source": [
    "rd = Reader(sep = ',')\n",
    "df = rd.train_test_split(paths, target_name)"
   ]
  },
  {
   "cell_type": "code",
   "execution_count": 4,
   "metadata": {
    "colab": {
     "base_uri": "https://localhost:8080/"
    },
    "id": "--WVgkL7WJL6",
    "outputId": "e79bac68-d2fe-4213-c10d-0b29460b8ea3"
   },
   "outputs": [
    {
     "name": "stdout",
     "output_type": "stream",
     "text": [
      "\n",
      "computing drifts ...\n",
      "CPU time: 1.7122418880462646 seconds\n",
      "\n",
      "> Top 10 drifts\n",
      "\n",
      "('customerID', 0.9994675186368478)\n",
      "('TotalCharges', 0.9042296345476148)\n",
      "('tenure', 0.04251805750386728)\n",
      "('gender', 0.038327208596054874)\n",
      "('OnlineBackup', 0.027314840563430032)\n",
      "('DeviceProtection', 0.02591524525727662)\n",
      "('InternetService', 0.019519994457753764)\n",
      "('PaymentMethod', 0.018293992739348397)\n",
      "('MultipleLines', 0.017815081727821314)\n",
      "('Contract', 0.01400154659057451)\n",
      "\n",
      "> Deleted variables : ['TotalCharges', 'customerID']\n",
      "> Drift coefficients dumped into directory : save\n"
     ]
    }
   ],
   "source": [
    "dft = Drift_thresholder()\n",
    "df = dft.fit_transform(df)"
   ]
  },
  {
   "cell_type": "markdown",
   "metadata": {
    "id": "_0jSa_gwYoio"
   },
   "source": [
    "Tuning"
   ]
  },
  {
   "cell_type": "code",
   "execution_count": 5,
   "metadata": {
    "colab": {
     "base_uri": "https://localhost:8080/"
    },
    "id": "AHin4nleWJJp",
    "outputId": "78b939a7-4c30-4ec1-dfe7-701d3f6c285f"
   },
   "outputs": [
    {
     "name": "stderr",
     "output_type": "stream",
     "text": [
      "/usr/local/lib/python3.7/dist-packages/mlbox/optimisation/optimiser.py:74: UserWarning: Optimiser will save all your fitted models into directory 'save/joblib'. Please clear it regularly.\n",
      "  +str(self.to_path)+\"/joblib'. Please clear it regularly.\")\n"
     ]
    }
   ],
   "source": [
    "opt = Optimiser(scoring = 'accuracy', n_folds = 3)"
   ]
  },
  {
   "cell_type": "code",
   "execution_count": 6,
   "metadata": {
    "colab": {
     "base_uri": "https://localhost:8080/"
    },
    "id": "SBerT5iYWJG6",
    "outputId": "8d4a528a-88b3-4105-e218-d64bb4562e0c"
   },
   "outputs": [
    {
     "name": "stdout",
     "output_type": "stream",
     "text": [
      "No parameters set. Default configuration is tested\n",
      "\n",
      "##################################################### testing hyper-parameters... #####################################################\n",
      "\n",
      ">>> NA ENCODER :{'numerical_strategy': 'mean', 'categorical_strategy': '<NULL>'}\n",
      "\n",
      ">>> CA ENCODER :{'strategy': 'label_encoding'}\n",
      "\n",
      ">>> ESTIMATOR :{'strategy': 'LightGBM', 'boosting_type': 'gbdt', 'class_weight': None, 'colsample_bytree': 0.8, 'importance_type': 'split', 'learning_rate': 0.05, 'max_depth': -1, 'min_child_samples': 20, 'min_child_weight': 0.001, 'min_split_gain': 0.0, 'n_estimators': 500, 'n_jobs': -1, 'num_leaves': 31, 'objective': None, 'random_state': None, 'reg_alpha': 0.0, 'reg_lambda': 0.0, 'silent': True, 'subsample': 0.9, 'subsample_for_bin': 200000, 'subsample_freq': 0, 'nthread': -1, 'seed': 0}\n",
      "\n",
      "\n",
      "MEAN SCORE : accuracy = 0.7754703585374512\n",
      "VARIANCE : 0.0065983778116581815 (fold 1 = 0.7827476038338658, fold 2 = 0.7667731629392971, fold 3 = 0.7768903088391906)\n",
      "CPU time: 22.88589882850647 seconds\n",
      "\n",
      "CPU times: user 14.4 s, sys: 252 ms, total: 14.7 s\n",
      "Wall time: 23 s\n"
     ]
    }
   ],
   "source": [
    "%%time\n",
    "best = opt.evaluate(None, df)"
   ]
  },
  {
   "cell_type": "code",
   "execution_count": 7,
   "metadata": {
    "colab": {
     "base_uri": "https://localhost:8080/"
    },
    "id": "9P_eNgm-cZke",
    "outputId": "c293634f-5bde-4ce6-9d05-c7720f05f2e8",
    "scrolled": false
   },
   "outputs": [
    {
     "name": "stdout",
     "output_type": "stream",
     "text": [
      "##################################################### testing hyper-parameters... #####################################################\n",
      ">>> NA ENCODER :{'numerical_strategy': 0, 'categorical_strategy': '<NULL>'}\n",
      ">>> CA ENCODER :{'strategy': 'entity_embedding'}\n",
      ">>> FEATURE SELECTOR :{'strategy': 'l1', 'threshold': 0.12485174744331443}\n",
      ">>> ESTIMATOR :{'strategy': 'LightGBM', 'max_depth': 7, 'boosting_type': 'gbdt', 'class_weight': None, 'colsample_bytree': 0.8, 'importance_type': 'split', 'learning_rate': 0.05, 'min_child_samples': 20, 'min_child_weight': 0.001, 'min_split_gain': 0.0, 'n_estimators': 500, 'n_jobs': -1, 'num_leaves': 31, 'objective': None, 'random_state': None, 'reg_alpha': 0.0, 'reg_lambda': 0.0, 'silent': True, 'subsample': 0.9, 'subsample_for_bin': 200000, 'subsample_freq': 0, 'nthread': -1, 'seed': 0}\n",
      "MEAN SCORE : accuracy = 0.7793752218672346\n",
      "VARIANCE : 0.0058707260946188325 (fold 1 = 0.7864749733759319, fold 2 = 0.77209797657082, fold 3 = 0.7795527156549521)\n",
      "CPU time: 23.281881093978882 seconds\n",
      "##################################################### testing hyper-parameters... #####################################################\n",
      ">>> NA ENCODER :{'numerical_strategy': 0, 'categorical_strategy': '<NULL>'}\n",
      ">>> CA ENCODER :{'strategy': 'label_encoding'}\n",
      ">>> FEATURE SELECTOR :{'strategy': 'l1', 'threshold': 0.151452345489357}\n",
      ">>> ESTIMATOR :{'strategy': 'LightGBM', 'max_depth': 7, 'boosting_type': 'gbdt', 'class_weight': None, 'colsample_bytree': 0.8, 'importance_type': 'split', 'learning_rate': 0.05, 'min_child_samples': 20, 'min_child_weight': 0.001, 'min_split_gain': 0.0, 'n_estimators': 500, 'n_jobs': -1, 'num_leaves': 31, 'objective': None, 'random_state': None, 'reg_alpha': 0.0, 'reg_lambda': 0.0, 'silent': True, 'subsample': 0.9, 'subsample_for_bin': 200000, 'subsample_freq': 0, 'nthread': -1, 'seed': 0}\n",
      "MEAN SCORE : accuracy = 0.7825701100461484\n",
      "VARIANCE : 0.007829870429575031 (fold 1 = 0.7870074547390842, fold 2 = 0.7715654952076677, fold 3 = 0.7891373801916933)\n",
      "CPU time: 2.4606215953826904 seconds\n",
      "##################################################### testing hyper-parameters... #####################################################\n",
      ">>> NA ENCODER :{'numerical_strategy': 0, 'categorical_strategy': '<NULL>'}\n",
      ">>> CA ENCODER :{'strategy': 'entity_embedding'}\n",
      ">>> FEATURE SELECTOR :{'strategy': 'l1', 'threshold': 0.09834526024888765}\n",
      ">>> ESTIMATOR :{'strategy': 'LightGBM', 'max_depth': 5, 'boosting_type': 'gbdt', 'class_weight': None, 'colsample_bytree': 0.8, 'importance_type': 'split', 'learning_rate': 0.05, 'min_child_samples': 20, 'min_child_weight': 0.001, 'min_split_gain': 0.0, 'n_estimators': 500, 'n_jobs': -1, 'num_leaves': 31, 'objective': None, 'random_state': None, 'reg_alpha': 0.0, 'reg_lambda': 0.0, 'silent': True, 'subsample': 0.9, 'subsample_for_bin': 200000, 'subsample_freq': 0, 'nthread': -1, 'seed': 0}\n",
      "MEAN SCORE : accuracy = 0.7843450479233227\n",
      "VARIANCE : 0.004192762446225665 (fold 1 = 0.7902023429179978, fold 2 = 0.7806176783812566, fold 3 = 0.7822151224707136)\n",
      "CPU time: 3.6156132221221924 seconds\n",
      "##################################################### testing hyper-parameters... #####################################################\n",
      ">>> NA ENCODER :{'numerical_strategy': 0, 'categorical_strategy': '<NULL>'}\n",
      ">>> CA ENCODER :{'strategy': 'entity_embedding'}\n",
      ">>> FEATURE SELECTOR :{'strategy': 'l1', 'threshold': 0.11298684089354054}\n",
      ">>> ESTIMATOR :{'strategy': 'LightGBM', 'max_depth': 6, 'boosting_type': 'gbdt', 'class_weight': None, 'colsample_bytree': 0.8, 'importance_type': 'split', 'learning_rate': 0.05, 'min_child_samples': 20, 'min_child_weight': 0.001, 'min_split_gain': 0.0, 'n_estimators': 500, 'n_jobs': -1, 'num_leaves': 31, 'objective': None, 'random_state': None, 'reg_alpha': 0.0, 'reg_lambda': 0.0, 'silent': True, 'subsample': 0.9, 'subsample_for_bin': 200000, 'subsample_freq': 0, 'nthread': -1, 'seed': 0}\n",
      "MEAN SCORE : accuracy = 0.7847000354987577\n",
      "VARIANCE : 0.0037985329355755514 (fold 1 = 0.788604898828541, fold 2 = 0.7795527156549521, fold 3 = 0.7859424920127795)\n",
      "CPU time: 3.7843260765075684 seconds\n",
      "##################################################### testing hyper-parameters... #####################################################\n",
      ">>> NA ENCODER :{'numerical_strategy': 0, 'categorical_strategy': '<NULL>'}\n",
      ">>> CA ENCODER :{'strategy': 'entity_embedding'}\n",
      ">>> FEATURE SELECTOR :{'strategy': 'l1', 'threshold': 0.05401156304771529}\n",
      ">>> ESTIMATOR :{'strategy': 'LightGBM', 'max_depth': 7, 'boosting_type': 'gbdt', 'class_weight': None, 'colsample_bytree': 0.8, 'importance_type': 'split', 'learning_rate': 0.05, 'min_child_samples': 20, 'min_child_weight': 0.001, 'min_split_gain': 0.0, 'n_estimators': 500, 'n_jobs': -1, 'num_leaves': 31, 'objective': None, 'random_state': None, 'reg_alpha': 0.0, 'reg_lambda': 0.0, 'silent': True, 'subsample': 0.9, 'subsample_for_bin': 200000, 'subsample_freq': 0, 'nthread': -1, 'seed': 0}\n",
      "MEAN SCORE : accuracy = 0.7793752218672346\n",
      "VARIANCE : 0.0058707260946188325 (fold 1 = 0.7864749733759319, fold 2 = 0.77209797657082, fold 3 = 0.7795527156549521)\n",
      "CPU time: 3.8927130699157715 seconds\n",
      "##################################################### testing hyper-parameters... #####################################################\n",
      ">>> NA ENCODER :{'numerical_strategy': 0, 'categorical_strategy': '<NULL>'}\n",
      ">>> CA ENCODER :{'strategy': 'random_projection'}\n",
      ">>> FEATURE SELECTOR :{'strategy': 'l1', 'threshold': 0.13353942250095815}\n",
      ">>> ESTIMATOR :{'strategy': 'LightGBM', 'max_depth': 5, 'boosting_type': 'gbdt', 'class_weight': None, 'colsample_bytree': 0.8, 'importance_type': 'split', 'learning_rate': 0.05, 'min_child_samples': 20, 'min_child_weight': 0.001, 'min_split_gain': 0.0, 'n_estimators': 500, 'n_jobs': -1, 'num_leaves': 31, 'objective': None, 'random_state': None, 'reg_alpha': 0.0, 'reg_lambda': 0.0, 'silent': True, 'subsample': 0.9, 'subsample_for_bin': 200000, 'subsample_freq': 0, 'nthread': -1, 'seed': 0}\n",
      "MEAN SCORE : accuracy = 0.7870074547390842\n",
      "VARIANCE : 0.006749433206187985 (fold 1 = 0.7955271565495208, fold 2 = 0.7790202342917998, fold 3 = 0.7864749733759319)\n",
      "CPU time: 2.180344343185425 seconds\n",
      "##################################################### testing hyper-parameters... #####################################################\n",
      ">>> NA ENCODER :{'numerical_strategy': 0, 'categorical_strategy': '<NULL>'}\n",
      ">>> CA ENCODER :{'strategy': 'random_projection'}\n",
      ">>> FEATURE SELECTOR :{'strategy': 'l1', 'threshold': 0.27971842232112126}\n",
      ">>> ESTIMATOR :{'strategy': 'LightGBM', 'max_depth': 3, 'boosting_type': 'gbdt', 'class_weight': None, 'colsample_bytree': 0.8, 'importance_type': 'split', 'learning_rate': 0.05, 'min_child_samples': 20, 'min_child_weight': 0.001, 'min_split_gain': 0.0, 'n_estimators': 500, 'n_jobs': -1, 'num_leaves': 31, 'objective': None, 'random_state': None, 'reg_alpha': 0.0, 'reg_lambda': 0.0, 'silent': True, 'subsample': 0.9, 'subsample_for_bin': 200000, 'subsample_freq': 0, 'nthread': -1, 'seed': 0}\n",
      "MEAN SCORE : accuracy = 0.7960596379126731\n",
      "VARIANCE : 0.0030433844869510456 (fold 1 = 0.7987220447284346, fold 2 = 0.7917997870074548, fold 3 = 0.7976570820021299)\n",
      "CPU time: 1.613339900970459 seconds\n",
      "##################################################### testing hyper-parameters... #####################################################\n",
      ">>> NA ENCODER :{'numerical_strategy': 0, 'categorical_strategy': '<NULL>'}\n",
      ">>> CA ENCODER :{'strategy': 'random_projection'}\n",
      ">>> FEATURE SELECTOR :{'strategy': 'l1', 'threshold': 0.043060183772033175}\n",
      ">>> ESTIMATOR :{'strategy': 'LightGBM', 'max_depth': 5, 'boosting_type': 'gbdt', 'class_weight': None, 'colsample_bytree': 0.8, 'importance_type': 'split', 'learning_rate': 0.05, 'min_child_samples': 20, 'min_child_weight': 0.001, 'min_split_gain': 0.0, 'n_estimators': 500, 'n_jobs': -1, 'num_leaves': 31, 'objective': None, 'random_state': None, 'reg_alpha': 0.0, 'reg_lambda': 0.0, 'silent': True, 'subsample': 0.9, 'subsample_for_bin': 200000, 'subsample_freq': 0, 'nthread': -1, 'seed': 0}\n",
      "MEAN SCORE : accuracy = 0.7870074547390842\n",
      "VARIANCE : 0.006749433206187985 (fold 1 = 0.7955271565495208, fold 2 = 0.7790202342917998, fold 3 = 0.7864749733759319)\n",
      "CPU time: 2.1748926639556885 seconds\n",
      "##################################################### testing hyper-parameters... #####################################################\n",
      ">>> NA ENCODER :{'numerical_strategy': 0, 'categorical_strategy': '<NULL>'}\n",
      ">>> CA ENCODER :{'strategy': 'random_projection'}\n",
      ">>> FEATURE SELECTOR :{'strategy': 'l1', 'threshold': 0.24765849408205076}\n",
      ">>> ESTIMATOR :{'strategy': 'LightGBM', 'max_depth': 7, 'boosting_type': 'gbdt', 'class_weight': None, 'colsample_bytree': 0.8, 'importance_type': 'split', 'learning_rate': 0.05, 'min_child_samples': 20, 'min_child_weight': 0.001, 'min_split_gain': 0.0, 'n_estimators': 500, 'n_jobs': -1, 'num_leaves': 31, 'objective': None, 'random_state': None, 'reg_alpha': 0.0, 'reg_lambda': 0.0, 'silent': True, 'subsample': 0.9, 'subsample_for_bin': 200000, 'subsample_freq': 0, 'nthread': -1, 'seed': 0}\n",
      "MEAN SCORE : accuracy = 0.7822151224707135\n",
      "VARIANCE : 0.008052038496424411 (fold 1 = 0.7917997870074548, fold 2 = 0.77209797657082, fold 3 = 0.7827476038338658)\n",
      "CPU time: 2.4699699878692627 seconds\n",
      "##################################################### testing hyper-parameters... #####################################################\n",
      ">>> NA ENCODER :{'numerical_strategy': 0, 'categorical_strategy': '<NULL>'}\n",
      ">>> CA ENCODER :{'strategy': 'label_encoding'}\n",
      ">>> FEATURE SELECTOR :{'strategy': 'l1', 'threshold': 0.11323070332743819}\n",
      ">>> ESTIMATOR :{'strategy': 'LightGBM', 'max_depth': 4, 'boosting_type': 'gbdt', 'class_weight': None, 'colsample_bytree': 0.8, 'importance_type': 'split', 'learning_rate': 0.05, 'min_child_samples': 20, 'min_child_weight': 0.001, 'min_split_gain': 0.0, 'n_estimators': 500, 'n_jobs': -1, 'num_leaves': 31, 'objective': None, 'random_state': None, 'reg_alpha': 0.0, 'reg_lambda': 0.0, 'silent': True, 'subsample': 0.9, 'subsample_for_bin': 200000, 'subsample_freq': 0, 'nthread': -1, 'seed': 0}\n",
      "MEAN SCORE : accuracy = 0.7886048988285409\n",
      "VARIANCE : 0.005701944765427404 (fold 1 = 0.7949946751863685, fold 2 = 0.7811501597444089, fold 3 = 0.7896698615548455)\n",
      "CPU time: 1.7860453128814697 seconds\n",
      "##################################################### testing hyper-parameters... #####################################################\n",
      ">>> NA ENCODER :{'numerical_strategy': 0, 'categorical_strategy': '<NULL>'}\n",
      ">>> CA ENCODER :{'strategy': 'random_projection'}\n",
      ">>> FEATURE SELECTOR :{'strategy': 'l1', 'threshold': 0.08250752073815878}\n",
      ">>> ESTIMATOR :{'strategy': 'LightGBM', 'max_depth': 3, 'boosting_type': 'gbdt', 'class_weight': None, 'colsample_bytree': 0.8, 'importance_type': 'split', 'learning_rate': 0.05, 'min_child_samples': 20, 'min_child_weight': 0.001, 'min_split_gain': 0.0, 'n_estimators': 500, 'n_jobs': -1, 'num_leaves': 31, 'objective': None, 'random_state': None, 'reg_alpha': 0.0, 'reg_lambda': 0.0, 'silent': True, 'subsample': 0.9, 'subsample_for_bin': 200000, 'subsample_freq': 0, 'nthread': -1, 'seed': 0}\n",
      "MEAN SCORE : accuracy = 0.7960596379126731\n",
      "VARIANCE : 0.0030433844869510456 (fold 1 = 0.7987220447284346, fold 2 = 0.7917997870074548, fold 3 = 0.7976570820021299)\n",
      "CPU time: 1.62601900100708 seconds\n",
      "##################################################### testing hyper-parameters... #####################################################\n",
      ">>> NA ENCODER :{'numerical_strategy': 0, 'categorical_strategy': '<NULL>'}\n",
      ">>> CA ENCODER :{'strategy': 'entity_embedding'}\n",
      ">>> FEATURE SELECTOR :{'strategy': 'l1', 'threshold': 0.20159606594582022}\n",
      ">>> ESTIMATOR :{'strategy': 'LightGBM', 'max_depth': 6, 'boosting_type': 'gbdt', 'class_weight': None, 'colsample_bytree': 0.8, 'importance_type': 'split', 'learning_rate': 0.05, 'min_child_samples': 20, 'min_child_weight': 0.001, 'min_split_gain': 0.0, 'n_estimators': 500, 'n_jobs': -1, 'num_leaves': 31, 'objective': None, 'random_state': None, 'reg_alpha': 0.0, 'reg_lambda': 0.0, 'silent': True, 'subsample': 0.9, 'subsample_for_bin': 200000, 'subsample_freq': 0, 'nthread': -1, 'seed': 0}\n",
      "MEAN SCORE : accuracy = 0.7847000354987577\n",
      "VARIANCE : 0.0037985329355755514 (fold 1 = 0.788604898828541, fold 2 = 0.7795527156549521, fold 3 = 0.7859424920127795)\n",
      "CPU time: 3.775550603866577 seconds\n",
      "##################################################### testing hyper-parameters... #####################################################\n",
      ">>> NA ENCODER :{'numerical_strategy': 0, 'categorical_strategy': '<NULL>'}\n",
      ">>> CA ENCODER :{'strategy': 'label_encoding'}\n",
      ">>> FEATURE SELECTOR :{'strategy': 'l1', 'threshold': 0.22136520840579788}\n",
      ">>> ESTIMATOR :{'strategy': 'LightGBM', 'max_depth': 6, 'boosting_type': 'gbdt', 'class_weight': None, 'colsample_bytree': 0.8, 'importance_type': 'split', 'learning_rate': 0.05, 'min_child_samples': 20, 'min_child_weight': 0.001, 'min_split_gain': 0.0, 'n_estimators': 500, 'n_jobs': -1, 'num_leaves': 31, 'objective': None, 'random_state': None, 'reg_alpha': 0.0, 'reg_lambda': 0.0, 'silent': True, 'subsample': 0.9, 'subsample_for_bin': 200000, 'subsample_freq': 0, 'nthread': -1, 'seed': 0}\n",
      "MEAN SCORE : accuracy = 0.7854100106496272\n",
      "VARIANCE : 0.004147433952981147 (fold 1 = 0.7880724174653887, fold 2 = 0.7795527156549521, fold 3 = 0.788604898828541)\n",
      "CPU time: 2.344496965408325 seconds\n",
      "##################################################### testing hyper-parameters... #####################################################\n",
      ">>> NA ENCODER :{'numerical_strategy': 0, 'categorical_strategy': '<NULL>'}\n",
      ">>> CA ENCODER :{'strategy': 'random_projection'}\n",
      ">>> FEATURE SELECTOR :{'strategy': 'l1', 'threshold': 0.0771366209256749}\n",
      ">>> ESTIMATOR :{'strategy': 'LightGBM', 'max_depth': 5, 'boosting_type': 'gbdt', 'class_weight': None, 'colsample_bytree': 0.8, 'importance_type': 'split', 'learning_rate': 0.05, 'min_child_samples': 20, 'min_child_weight': 0.001, 'min_split_gain': 0.0, 'n_estimators': 500, 'n_jobs': -1, 'num_leaves': 31, 'objective': None, 'random_state': None, 'reg_alpha': 0.0, 'reg_lambda': 0.0, 'silent': True, 'subsample': 0.9, 'subsample_for_bin': 200000, 'subsample_freq': 0, 'nthread': -1, 'seed': 0}\n",
      "MEAN SCORE : accuracy = 0.7870074547390842\n",
      "VARIANCE : 0.006749433206187985 (fold 1 = 0.7955271565495208, fold 2 = 0.7790202342917998, fold 3 = 0.7864749733759319)\n",
      "CPU time: 2.1796882152557373 seconds\n",
      "##################################################### testing hyper-parameters... #####################################################\n",
      ">>> NA ENCODER :{'numerical_strategy': 0, 'categorical_strategy': '<NULL>'}\n",
      ">>> CA ENCODER :{'strategy': 'label_encoding'}\n",
      ">>> FEATURE SELECTOR :{'strategy': 'l1', 'threshold': 0.2769966527386471}\n",
      ">>> ESTIMATOR :{'strategy': 'LightGBM', 'max_depth': 7, 'boosting_type': 'gbdt', 'class_weight': None, 'colsample_bytree': 0.8, 'importance_type': 'split', 'learning_rate': 0.05, 'min_child_samples': 20, 'min_child_weight': 0.001, 'min_split_gain': 0.0, 'n_estimators': 500, 'n_jobs': -1, 'num_leaves': 31, 'objective': None, 'random_state': None, 'reg_alpha': 0.0, 'reg_lambda': 0.0, 'silent': True, 'subsample': 0.9, 'subsample_for_bin': 200000, 'subsample_freq': 0, 'nthread': -1, 'seed': 0}\n",
      "MEAN SCORE : accuracy = 0.7825701100461484\n",
      "VARIANCE : 0.007829870429575031 (fold 1 = 0.7870074547390842, fold 2 = 0.7715654952076677, fold 3 = 0.7891373801916933)\n",
      "CPU time: 2.496511459350586 seconds\n",
      "100%|██████████| 15/15 [01:00<00:00,  4.01s/trial, best loss: -0.7960596379126731]\n",
      "\n",
      "\n",
      "~~~~~~~~~~~~~~~~~~~~~~~~~~~~~~~~~~~~~~~~~~~~~~~~~~~~~~~~~~~~~~~~~~~~~~~~~~~~~~~~~~~~~~~~~~~~~~~~~~~~~~~~~~~~~~~~~~~~~~~~~~~~~~~~~~~~~~~~~\n",
      "~~~~~~~~~~~~~~~~~~~~~~~~~~~~~~~~~~~~~~~~~~~~~~~~~~~~~~~~~ BEST HYPER-PARAMETERS ~~~~~~~~~~~~~~~~~~~~~~~~~~~~~~~~~~~~~~~~~~~~~~~~~~~~~~~~~\n",
      "~~~~~~~~~~~~~~~~~~~~~~~~~~~~~~~~~~~~~~~~~~~~~~~~~~~~~~~~~~~~~~~~~~~~~~~~~~~~~~~~~~~~~~~~~~~~~~~~~~~~~~~~~~~~~~~~~~~~~~~~~~~~~~~~~~~~~~~~~\n",
      "\n",
      "{'ce__strategy': 'random_projection', 'est__max_depth': 3, 'fs__threshold': 0.27971842232112126, 'ne__numerical_strategy': 0}\n",
      "CPU times: user 1min 3s, sys: 2.16 s, total: 1min 6s\n",
      "Wall time: 1min\n"
     ]
    }
   ],
   "source": [
    "%%time\n",
    "space = {\n",
    "    \n",
    "        'ne__numerical_strategy':{\"search\":\"choice\",\n",
    "                                 \"space\":[0]},\n",
    "        'ce__strategy':{\"search\":\"choice\",\n",
    "                        \"space\":[\"label_encoding\",\"random_projection\", \"entity_embedding\"]}, \n",
    "        'fs__threshold':{\"search\":\"uniform\",\n",
    "                        \"space\":[0.01,0.3]},    \n",
    "        'est__max_depth':{\"search\":\"choice\",\n",
    "                                  \"space\":[3,4,5,6,7]}\n",
    "    \n",
    "        }\n",
    "\n",
    "best = opt.optimise(space, df,15)"
   ]
  },
  {
   "cell_type": "code",
   "execution_count": 8,
   "metadata": {
    "colab": {
     "base_uri": "https://localhost:8080/",
     "height": 749
    },
    "id": "zy4RRxBxWJDg",
    "outputId": "909f01a7-a8ed-41cc-d561-3733ac9b3eda"
   },
   "outputs": [
    {
     "name": "stdout",
     "output_type": "stream",
     "text": [
      "\n",
      "fitting the pipeline ...\n"
     ]
    },
    {
     "name": "stderr",
     "output_type": "stream",
     "text": [
      "/usr/local/lib/python3.7/dist-packages/sklearn/linear_model/_sag.py:330: ConvergenceWarning: The max_iter was reached which means the coef_ did not converge\n",
      "  \"the coef_ did not converge\", ConvergenceWarning)\n"
     ]
    },
    {
     "name": "stdout",
     "output_type": "stream",
     "text": [
      "CPU time: 0.7623131275177002 seconds\n"
     ]
    },
    {
     "data": {
      "image/png": "[encoded data removed]",
      "text/plain": [
       "<Figure size 1440x288 with 1 Axes>"
      ]
     },
     "metadata": {
      "needs_background": "light"
     },
     "output_type": "display_data"
    },
    {
     "name": "stdout",
     "output_type": "stream",
     "text": [
      "\n",
      "> Feature importances dumped into directory : save\n",
      "\n",
      "predicting ...\n",
      "CPU time: 0.07032656669616699 seconds\n",
      "\n",
      "> Overview on predictions : \n",
      "\n",
      "         No       Yes Churn_predicted\n",
      "0  0.253590  0.746410             Yes\n",
      "1  0.928297  0.071703              No\n",
      "2  0.996469  0.003531              No\n",
      "3  0.109844  0.890156             Yes\n",
      "4  0.991794  0.008206              No\n",
      "5  0.779013  0.220987              No\n",
      "6  0.959620  0.040380              No\n",
      "7  0.998665  0.001335              No\n",
      "8  0.760679  0.239321              No\n",
      "9  0.726539  0.273461              No\n",
      "\n",
      "dumping predictions into directory : save ...\n"
     ]
    },
    {
     "data": {
      "text/plain": [
       "<mlbox.prediction.predictor.Predictor at 0x7f595afca610>"
      ]
     },
     "execution_count": 8,
     "metadata": {},
     "output_type": "execute_result"
    }
   ],
   "source": [
    "prd = Predictor()\n",
    "prd.fit_predict(best, df)"
   ]
  },
  {
   "cell_type": "code",
   "execution_count": 9,
   "metadata": {
    "colab": {
     "base_uri": "https://localhost:8080/"
    },
    "id": "ohE9-UUEWJBB",
    "outputId": "2314db76-17b0-4819-b340-0b6f31253b9c"
   },
   "outputs": [
    {
     "data": {
      "text/plain": [
       "{'ce__strategy': 'random_projection',\n",
       " 'est__max_depth': 3,\n",
       " 'fs__threshold': 0.27971842232112126,\n",
       " 'ne__numerical_strategy': 0}"
      ]
     },
     "execution_count": 9,
     "metadata": {},
     "output_type": "execute_result"
    }
   ],
   "source": [
    "best"
   ]
  },
  {
   "cell_type": "code",
   "execution_count": null,
   "metadata": {
    "id": "vHRax3GiWI9h"
   },
   "outputs": [],
   "source": []
  },
  {
   "cell_type": "code",
   "execution_count": null,
   "metadata": {
    "id": "yWnGaSPXWI43"
   },
   "outputs": [],
   "source": []
  },
  {
   "cell_type": "code",
   "execution_count": null,
   "metadata": {
    "id": "uK01eOi5WI1c"
   },
   "outputs": [],
   "source": []
  },
  {
   "cell_type": "code",
   "execution_count": null,
   "metadata": {
    "id": "9jutd8qjWIy7"
   },
   "outputs": [],
   "source": []
  },
  {
   "cell_type": "code",
   "execution_count": null,
   "metadata": {
    "id": "izMjqZ53WIwc"
   },
   "outputs": [],
   "source": []
  },
  {
   "cell_type": "code",
   "execution_count": null,
   "metadata": {
    "id": "FbjRb6fOWIt9"
   },
   "outputs": [],
   "source": []
  },
  {
   "cell_type": "code",
   "execution_count": null,
   "metadata": {
    "id": "eD1gAr_qWIq7"
   },
   "outputs": [],
   "source": []
  },
  {
   "cell_type": "code",
   "execution_count": null,
   "metadata": {
    "id": "V7DddU96WIm3"
   },
   "outputs": [],
   "source": []
  }
 ],
 "metadata": {
  "colab": {
   "name": "(4) MLBox.ipynb",
   "provenance": []
  },
  "kernelspec": {
   "display_name": "mlbox_jenv",
   "language": "python",
   "name": "mlbox_jenv"
  },
  "language_info": {
   "codemirror_mode": {
    "name": "ipython",
    "version": 3
   },
   "file_extension": ".py",
   "mimetype": "text/x-python",
   "name": "python",
   "nbconvert_exporter": "python",
   "pygments_lexer": "ipython3",
   "version": "3.9.12"
  }
 },
 "nbformat": 4,
 "nbformat_minor": 1
}
